{
 "cells": [
  {
   "cell_type": "markdown",
   "metadata": {},
   "source": [
    "# Breast Cancer Classification Neural Network\n",
    "This notebook will attempt to correctly diagnose wether a tumour is benign or malignant. The dataset was obtained by the University of Wisconsin Hospitals, Madison from Dr. William H. Wolberg.\n",
    "\n",
    "## Data Exploration\n",
    "First things first, we need to import the required packages:"
   ]
  },
  {
   "cell_type": "code",
   "execution_count": 1,
   "metadata": {},
   "outputs": [
    {
     "name": "stdout",
     "output_type": "stream",
     "text": [
      "2.0.0\n",
      "Setup Complete !\n"
     ]
    }
   ],
   "source": [
    "import pandas as pd\n",
    "import numpy as np\n",
    "import seaborn as sns\n",
    "import matplotlib.pyplot as plt\n",
    "import tensorflow as tf\n",
    "import tensorflow.keras as keras\n",
    "\n",
    "from sklearn.model_selection import StratifiedKFold\n",
    "\n",
    "\n",
    "print(tf.__version__)\n",
    "print('Setup Complete !')"
   ]
  },
  {
   "cell_type": "markdown",
   "metadata": {},
   "source": [
    "After loading the pandas package and we'll use the *read_csv* method to load the dataset and use the *.shape* attribute to explore the dimensions of it."
   ]
  },
  {
   "cell_type": "code",
   "execution_count": 2,
   "metadata": {},
   "outputs": [
    {
     "name": "stdout",
     "output_type": "stream",
     "text": [
      "(698, 11)\n"
     ]
    }
   ],
   "source": [
    "wbcr_data = pd.read_csv('../datasets/breast-cancer-wisconsin.data')\n",
    "print(wbcr_data.shape)"
   ]
  },
  {
   "cell_type": "markdown",
   "metadata": {},
   "source": [
    "We can see that our data is 2 Dimensional (698 rows and 11 columns). Now let's take a look at the values: "
   ]
  },
  {
   "cell_type": "code",
   "execution_count": 3,
   "metadata": {
    "scrolled": false
   },
   "outputs": [
    {
     "name": "stdout",
     "output_type": "stream",
     "text": [
      "   1000025  5   1  1.1  1.2  2 1.3  3  1.4  1.5  2.1\n",
      "0  1002945  5   4    4    5  7  10  3    2    1    2\n",
      "1  1015425  3   1    1    1  2   2  3    1    1    2\n",
      "2  1016277  6   8    8    1  3   4  3    7    1    2\n",
      "3  1017023  4   1    1    3  2   1  3    1    1    2\n",
      "4  1017122  8  10   10    8  7  10  9    7    1    4\n"
     ]
    }
   ],
   "source": [
    "print(wbcr_data.head())"
   ]
  },
  {
   "cell_type": "markdown",
   "metadata": {},
   "source": [
    "### Cleaning the dataset\n",
    "The output doesn't actually tell us anything about the data unfortunately. For that we need to take a look in the **breast-cancer-wisconsin.names** file which comes with the dataset:\n",
    "\n",
    "    1. ID Number\n",
    "    2. Clump Thickness (0-10)\n",
    "    3. Uniformity of Cell Size (0-10)\n",
    "    4. Uniformity of Cell Shape (0-10)\n",
    "    5. Marginal Adhesion (0-10)\n",
    "    6. Single Epithelial Cell Size (0-10)\n",
    "    7. Bare Nuclei (0-10)\n",
    "    8. Bland Chromatin (0-10)\n",
    "    9. Normal Nucleoli (0-10)\n",
    "    10. Mitoses (0-10)\n",
    "    11. Class (2 for benign, 4 for malignant)\n",
    "\n",
    "According to the file, we have 10 categories; one just containing an ID and the rest containing nominal values. The ID column has no practical use to us and we will therefore delete it."
   ]
  },
  {
   "cell_type": "code",
   "execution_count": 4,
   "metadata": {},
   "outputs": [
    {
     "name": "stdout",
     "output_type": "stream",
     "text": [
      "Index(['ID Number', 'Clump Thickness', 'Uni Cell Size', 'Uni Cell Shape',\n",
      "       'Marginal Adhesion', 'Epithelial Cell Size', 'Bare Nuclei',\n",
      "       'Bland Chromatin', 'Normal Nucleoli', 'Mitoses', 'Class'],\n",
      "      dtype='object')\n"
     ]
    }
   ],
   "source": [
    "# New labels for the datitaframe\n",
    "labels = ['ID Number', 'Clump Thickness', 'Uni Cell Size', 'Uni Cell Shape', 'Marginal Adhesion', \n",
    "          'Epithelial Cell Size', 'Bare Nuclei', 'Bland Chromatin', 'Normal Nucleoli', 'Mitoses', 'Class']\n",
    "# Assign the new labels to the dataframe\n",
    "wbcr_data = pd.read_csv('../datasets/breast-cancer-wisconsin.data', names=labels, index_col=False)\n",
    "print(wbcr_data.columns)"
   ]
  },
  {
   "cell_type": "code",
   "execution_count": 5,
   "metadata": {},
   "outputs": [
    {
     "name": "stdout",
     "output_type": "stream",
     "text": [
      "<class 'pandas.core.frame.DataFrame'>\n",
      "RangeIndex: 699 entries, 0 to 698\n",
      "Data columns (total 10 columns):\n",
      "Clump Thickness         699 non-null int64\n",
      "Uni Cell Size           699 non-null int64\n",
      "Uni Cell Shape          699 non-null int64\n",
      "Marginal Adhesion       699 non-null int64\n",
      "Epithelial Cell Size    699 non-null int64\n",
      "Bare Nuclei             699 non-null object\n",
      "Bland Chromatin         699 non-null int64\n",
      "Normal Nucleoli         699 non-null int64\n",
      "Mitoses                 699 non-null int64\n",
      "Class                   699 non-null int64\n",
      "dtypes: int64(9), object(1)\n",
      "memory usage: 54.7+ KB\n"
     ]
    }
   ],
   "source": [
    "# Delete the ID column\n",
    "wbcr_data.drop(['ID Number'], axis=1, inplace=True)\n",
    "wbcr_data.info()"
   ]
  },
  {
   "cell_type": "code",
   "execution_count": 6,
   "metadata": {},
   "outputs": [
    {
     "data": {
      "text/html": [
       "<div>\n",
       "<style scoped>\n",
       "    .dataframe tbody tr th:only-of-type {\n",
       "        vertical-align: middle;\n",
       "    }\n",
       "\n",
       "    .dataframe tbody tr th {\n",
       "        vertical-align: top;\n",
       "    }\n",
       "\n",
       "    .dataframe thead th {\n",
       "        text-align: right;\n",
       "    }\n",
       "</style>\n",
       "<table border=\"1\" class=\"dataframe\">\n",
       "  <thead>\n",
       "    <tr style=\"text-align: right;\">\n",
       "      <th></th>\n",
       "      <th>Clump Thickness</th>\n",
       "      <th>Uni Cell Size</th>\n",
       "      <th>Uni Cell Shape</th>\n",
       "      <th>Marginal Adhesion</th>\n",
       "      <th>Epithelial Cell Size</th>\n",
       "      <th>Bare Nuclei</th>\n",
       "      <th>Bland Chromatin</th>\n",
       "      <th>Normal Nucleoli</th>\n",
       "      <th>Mitoses</th>\n",
       "      <th>Class</th>\n",
       "    </tr>\n",
       "  </thead>\n",
       "  <tbody>\n",
       "    <tr>\n",
       "      <th>23</th>\n",
       "      <td>8</td>\n",
       "      <td>4</td>\n",
       "      <td>5</td>\n",
       "      <td>1</td>\n",
       "      <td>2</td>\n",
       "      <td>?</td>\n",
       "      <td>7</td>\n",
       "      <td>3</td>\n",
       "      <td>1</td>\n",
       "      <td>4</td>\n",
       "    </tr>\n",
       "    <tr>\n",
       "      <th>40</th>\n",
       "      <td>6</td>\n",
       "      <td>6</td>\n",
       "      <td>6</td>\n",
       "      <td>9</td>\n",
       "      <td>6</td>\n",
       "      <td>?</td>\n",
       "      <td>7</td>\n",
       "      <td>8</td>\n",
       "      <td>1</td>\n",
       "      <td>2</td>\n",
       "    </tr>\n",
       "    <tr>\n",
       "      <th>139</th>\n",
       "      <td>1</td>\n",
       "      <td>1</td>\n",
       "      <td>1</td>\n",
       "      <td>1</td>\n",
       "      <td>1</td>\n",
       "      <td>?</td>\n",
       "      <td>2</td>\n",
       "      <td>1</td>\n",
       "      <td>1</td>\n",
       "      <td>2</td>\n",
       "    </tr>\n",
       "    <tr>\n",
       "      <th>145</th>\n",
       "      <td>1</td>\n",
       "      <td>1</td>\n",
       "      <td>3</td>\n",
       "      <td>1</td>\n",
       "      <td>2</td>\n",
       "      <td>?</td>\n",
       "      <td>2</td>\n",
       "      <td>1</td>\n",
       "      <td>1</td>\n",
       "      <td>2</td>\n",
       "    </tr>\n",
       "    <tr>\n",
       "      <th>158</th>\n",
       "      <td>1</td>\n",
       "      <td>1</td>\n",
       "      <td>2</td>\n",
       "      <td>1</td>\n",
       "      <td>3</td>\n",
       "      <td>?</td>\n",
       "      <td>1</td>\n",
       "      <td>1</td>\n",
       "      <td>1</td>\n",
       "      <td>2</td>\n",
       "    </tr>\n",
       "    <tr>\n",
       "      <th>164</th>\n",
       "      <td>5</td>\n",
       "      <td>1</td>\n",
       "      <td>1</td>\n",
       "      <td>1</td>\n",
       "      <td>2</td>\n",
       "      <td>?</td>\n",
       "      <td>3</td>\n",
       "      <td>1</td>\n",
       "      <td>1</td>\n",
       "      <td>2</td>\n",
       "    </tr>\n",
       "    <tr>\n",
       "      <th>235</th>\n",
       "      <td>3</td>\n",
       "      <td>1</td>\n",
       "      <td>4</td>\n",
       "      <td>1</td>\n",
       "      <td>2</td>\n",
       "      <td>?</td>\n",
       "      <td>3</td>\n",
       "      <td>1</td>\n",
       "      <td>1</td>\n",
       "      <td>2</td>\n",
       "    </tr>\n",
       "    <tr>\n",
       "      <th>249</th>\n",
       "      <td>3</td>\n",
       "      <td>1</td>\n",
       "      <td>1</td>\n",
       "      <td>1</td>\n",
       "      <td>2</td>\n",
       "      <td>?</td>\n",
       "      <td>3</td>\n",
       "      <td>1</td>\n",
       "      <td>1</td>\n",
       "      <td>2</td>\n",
       "    </tr>\n",
       "    <tr>\n",
       "      <th>275</th>\n",
       "      <td>3</td>\n",
       "      <td>1</td>\n",
       "      <td>3</td>\n",
       "      <td>1</td>\n",
       "      <td>2</td>\n",
       "      <td>?</td>\n",
       "      <td>2</td>\n",
       "      <td>1</td>\n",
       "      <td>1</td>\n",
       "      <td>2</td>\n",
       "    </tr>\n",
       "    <tr>\n",
       "      <th>292</th>\n",
       "      <td>8</td>\n",
       "      <td>8</td>\n",
       "      <td>8</td>\n",
       "      <td>1</td>\n",
       "      <td>2</td>\n",
       "      <td>?</td>\n",
       "      <td>6</td>\n",
       "      <td>10</td>\n",
       "      <td>1</td>\n",
       "      <td>4</td>\n",
       "    </tr>\n",
       "    <tr>\n",
       "      <th>294</th>\n",
       "      <td>1</td>\n",
       "      <td>1</td>\n",
       "      <td>1</td>\n",
       "      <td>1</td>\n",
       "      <td>2</td>\n",
       "      <td>?</td>\n",
       "      <td>2</td>\n",
       "      <td>1</td>\n",
       "      <td>1</td>\n",
       "      <td>2</td>\n",
       "    </tr>\n",
       "    <tr>\n",
       "      <th>297</th>\n",
       "      <td>5</td>\n",
       "      <td>4</td>\n",
       "      <td>3</td>\n",
       "      <td>1</td>\n",
       "      <td>2</td>\n",
       "      <td>?</td>\n",
       "      <td>2</td>\n",
       "      <td>3</td>\n",
       "      <td>1</td>\n",
       "      <td>2</td>\n",
       "    </tr>\n",
       "    <tr>\n",
       "      <th>315</th>\n",
       "      <td>4</td>\n",
       "      <td>6</td>\n",
       "      <td>5</td>\n",
       "      <td>6</td>\n",
       "      <td>7</td>\n",
       "      <td>?</td>\n",
       "      <td>4</td>\n",
       "      <td>9</td>\n",
       "      <td>1</td>\n",
       "      <td>2</td>\n",
       "    </tr>\n",
       "    <tr>\n",
       "      <th>321</th>\n",
       "      <td>3</td>\n",
       "      <td>1</td>\n",
       "      <td>1</td>\n",
       "      <td>1</td>\n",
       "      <td>2</td>\n",
       "      <td>?</td>\n",
       "      <td>3</td>\n",
       "      <td>1</td>\n",
       "      <td>1</td>\n",
       "      <td>2</td>\n",
       "    </tr>\n",
       "    <tr>\n",
       "      <th>411</th>\n",
       "      <td>1</td>\n",
       "      <td>1</td>\n",
       "      <td>1</td>\n",
       "      <td>1</td>\n",
       "      <td>1</td>\n",
       "      <td>?</td>\n",
       "      <td>2</td>\n",
       "      <td>1</td>\n",
       "      <td>1</td>\n",
       "      <td>2</td>\n",
       "    </tr>\n",
       "    <tr>\n",
       "      <th>617</th>\n",
       "      <td>1</td>\n",
       "      <td>1</td>\n",
       "      <td>1</td>\n",
       "      <td>1</td>\n",
       "      <td>1</td>\n",
       "      <td>?</td>\n",
       "      <td>1</td>\n",
       "      <td>1</td>\n",
       "      <td>1</td>\n",
       "      <td>2</td>\n",
       "    </tr>\n",
       "  </tbody>\n",
       "</table>\n",
       "</div>"
      ],
      "text/plain": [
       "     Clump Thickness  Uni Cell Size  Uni Cell Shape  Marginal Adhesion  \\\n",
       "23                 8              4               5                  1   \n",
       "40                 6              6               6                  9   \n",
       "139                1              1               1                  1   \n",
       "145                1              1               3                  1   \n",
       "158                1              1               2                  1   \n",
       "164                5              1               1                  1   \n",
       "235                3              1               4                  1   \n",
       "249                3              1               1                  1   \n",
       "275                3              1               3                  1   \n",
       "292                8              8               8                  1   \n",
       "294                1              1               1                  1   \n",
       "297                5              4               3                  1   \n",
       "315                4              6               5                  6   \n",
       "321                3              1               1                  1   \n",
       "411                1              1               1                  1   \n",
       "617                1              1               1                  1   \n",
       "\n",
       "     Epithelial Cell Size Bare Nuclei  Bland Chromatin  Normal Nucleoli  \\\n",
       "23                      2           ?                7                3   \n",
       "40                      6           ?                7                8   \n",
       "139                     1           ?                2                1   \n",
       "145                     2           ?                2                1   \n",
       "158                     3           ?                1                1   \n",
       "164                     2           ?                3                1   \n",
       "235                     2           ?                3                1   \n",
       "249                     2           ?                3                1   \n",
       "275                     2           ?                2                1   \n",
       "292                     2           ?                6               10   \n",
       "294                     2           ?                2                1   \n",
       "297                     2           ?                2                3   \n",
       "315                     7           ?                4                9   \n",
       "321                     2           ?                3                1   \n",
       "411                     1           ?                2                1   \n",
       "617                     1           ?                1                1   \n",
       "\n",
       "     Mitoses  Class  \n",
       "23         1      4  \n",
       "40         1      2  \n",
       "139        1      2  \n",
       "145        1      2  \n",
       "158        1      2  \n",
       "164        1      2  \n",
       "235        1      2  \n",
       "249        1      2  \n",
       "275        1      2  \n",
       "292        1      4  \n",
       "294        1      2  \n",
       "297        1      2  \n",
       "315        1      2  \n",
       "321        1      2  \n",
       "411        1      2  \n",
       "617        1      2  "
      ]
     },
     "execution_count": 6,
     "metadata": {},
     "output_type": "execute_result"
    }
   ],
   "source": [
    "wbcr_data.loc[wbcr_data['Bare Nuclei'] == '?']"
   ]
  },
  {
   "cell_type": "markdown",
   "metadata": {},
   "source": [
    "We had identified a column of type *object*, which could pose a problem and on further investigation we have discovered that there are in fact missing values in the dataset that need to be dealt with before continuing."
   ]
  },
  {
   "cell_type": "code",
   "execution_count": 7,
   "metadata": {},
   "outputs": [
    {
     "data": {
      "text/html": [
       "<div>\n",
       "<style scoped>\n",
       "    .dataframe tbody tr th:only-of-type {\n",
       "        vertical-align: middle;\n",
       "    }\n",
       "\n",
       "    .dataframe tbody tr th {\n",
       "        vertical-align: top;\n",
       "    }\n",
       "\n",
       "    .dataframe thead th {\n",
       "        text-align: right;\n",
       "    }\n",
       "</style>\n",
       "<table border=\"1\" class=\"dataframe\">\n",
       "  <thead>\n",
       "    <tr style=\"text-align: right;\">\n",
       "      <th></th>\n",
       "      <th>Clump Thickness</th>\n",
       "      <th>Uni Cell Size</th>\n",
       "      <th>Uni Cell Shape</th>\n",
       "      <th>Marginal Adhesion</th>\n",
       "      <th>Epithelial Cell Size</th>\n",
       "      <th>Bare Nuclei</th>\n",
       "      <th>Bland Chromatin</th>\n",
       "      <th>Normal Nucleoli</th>\n",
       "      <th>Mitoses</th>\n",
       "      <th>Class</th>\n",
       "    </tr>\n",
       "  </thead>\n",
       "  <tbody>\n",
       "    <tr>\n",
       "      <th>0</th>\n",
       "      <td>5</td>\n",
       "      <td>1</td>\n",
       "      <td>1</td>\n",
       "      <td>1</td>\n",
       "      <td>2</td>\n",
       "      <td>1</td>\n",
       "      <td>3</td>\n",
       "      <td>1</td>\n",
       "      <td>1</td>\n",
       "      <td>2</td>\n",
       "    </tr>\n",
       "    <tr>\n",
       "      <th>1</th>\n",
       "      <td>5</td>\n",
       "      <td>4</td>\n",
       "      <td>4</td>\n",
       "      <td>5</td>\n",
       "      <td>7</td>\n",
       "      <td>10</td>\n",
       "      <td>3</td>\n",
       "      <td>2</td>\n",
       "      <td>1</td>\n",
       "      <td>2</td>\n",
       "    </tr>\n",
       "    <tr>\n",
       "      <th>2</th>\n",
       "      <td>3</td>\n",
       "      <td>1</td>\n",
       "      <td>1</td>\n",
       "      <td>1</td>\n",
       "      <td>2</td>\n",
       "      <td>2</td>\n",
       "      <td>3</td>\n",
       "      <td>1</td>\n",
       "      <td>1</td>\n",
       "      <td>2</td>\n",
       "    </tr>\n",
       "    <tr>\n",
       "      <th>3</th>\n",
       "      <td>6</td>\n",
       "      <td>8</td>\n",
       "      <td>8</td>\n",
       "      <td>1</td>\n",
       "      <td>3</td>\n",
       "      <td>4</td>\n",
       "      <td>3</td>\n",
       "      <td>7</td>\n",
       "      <td>1</td>\n",
       "      <td>2</td>\n",
       "    </tr>\n",
       "    <tr>\n",
       "      <th>4</th>\n",
       "      <td>4</td>\n",
       "      <td>1</td>\n",
       "      <td>1</td>\n",
       "      <td>3</td>\n",
       "      <td>2</td>\n",
       "      <td>1</td>\n",
       "      <td>3</td>\n",
       "      <td>1</td>\n",
       "      <td>1</td>\n",
       "      <td>2</td>\n",
       "    </tr>\n",
       "    <tr>\n",
       "      <th>...</th>\n",
       "      <td>...</td>\n",
       "      <td>...</td>\n",
       "      <td>...</td>\n",
       "      <td>...</td>\n",
       "      <td>...</td>\n",
       "      <td>...</td>\n",
       "      <td>...</td>\n",
       "      <td>...</td>\n",
       "      <td>...</td>\n",
       "      <td>...</td>\n",
       "    </tr>\n",
       "    <tr>\n",
       "      <th>694</th>\n",
       "      <td>3</td>\n",
       "      <td>1</td>\n",
       "      <td>1</td>\n",
       "      <td>1</td>\n",
       "      <td>3</td>\n",
       "      <td>2</td>\n",
       "      <td>1</td>\n",
       "      <td>1</td>\n",
       "      <td>1</td>\n",
       "      <td>2</td>\n",
       "    </tr>\n",
       "    <tr>\n",
       "      <th>695</th>\n",
       "      <td>2</td>\n",
       "      <td>1</td>\n",
       "      <td>1</td>\n",
       "      <td>1</td>\n",
       "      <td>2</td>\n",
       "      <td>1</td>\n",
       "      <td>1</td>\n",
       "      <td>1</td>\n",
       "      <td>1</td>\n",
       "      <td>2</td>\n",
       "    </tr>\n",
       "    <tr>\n",
       "      <th>696</th>\n",
       "      <td>5</td>\n",
       "      <td>10</td>\n",
       "      <td>10</td>\n",
       "      <td>3</td>\n",
       "      <td>7</td>\n",
       "      <td>3</td>\n",
       "      <td>8</td>\n",
       "      <td>10</td>\n",
       "      <td>2</td>\n",
       "      <td>4</td>\n",
       "    </tr>\n",
       "    <tr>\n",
       "      <th>697</th>\n",
       "      <td>4</td>\n",
       "      <td>8</td>\n",
       "      <td>6</td>\n",
       "      <td>4</td>\n",
       "      <td>3</td>\n",
       "      <td>4</td>\n",
       "      <td>10</td>\n",
       "      <td>6</td>\n",
       "      <td>1</td>\n",
       "      <td>4</td>\n",
       "    </tr>\n",
       "    <tr>\n",
       "      <th>698</th>\n",
       "      <td>4</td>\n",
       "      <td>8</td>\n",
       "      <td>8</td>\n",
       "      <td>5</td>\n",
       "      <td>4</td>\n",
       "      <td>5</td>\n",
       "      <td>10</td>\n",
       "      <td>4</td>\n",
       "      <td>1</td>\n",
       "      <td>4</td>\n",
       "    </tr>\n",
       "  </tbody>\n",
       "</table>\n",
       "<p>683 rows × 10 columns</p>\n",
       "</div>"
      ],
      "text/plain": [
       "     Clump Thickness  Uni Cell Size  Uni Cell Shape  Marginal Adhesion  \\\n",
       "0                  5              1               1                  1   \n",
       "1                  5              4               4                  5   \n",
       "2                  3              1               1                  1   \n",
       "3                  6              8               8                  1   \n",
       "4                  4              1               1                  3   \n",
       "..               ...            ...             ...                ...   \n",
       "694                3              1               1                  1   \n",
       "695                2              1               1                  1   \n",
       "696                5             10              10                  3   \n",
       "697                4              8               6                  4   \n",
       "698                4              8               8                  5   \n",
       "\n",
       "     Epithelial Cell Size Bare Nuclei  Bland Chromatin  Normal Nucleoli  \\\n",
       "0                       2           1                3                1   \n",
       "1                       7          10                3                2   \n",
       "2                       2           2                3                1   \n",
       "3                       3           4                3                7   \n",
       "4                       2           1                3                1   \n",
       "..                    ...         ...              ...              ...   \n",
       "694                     3           2                1                1   \n",
       "695                     2           1                1                1   \n",
       "696                     7           3                8               10   \n",
       "697                     3           4               10                6   \n",
       "698                     4           5               10                4   \n",
       "\n",
       "     Mitoses  Class  \n",
       "0          1      2  \n",
       "1          1      2  \n",
       "2          1      2  \n",
       "3          1      2  \n",
       "4          1      2  \n",
       "..       ...    ...  \n",
       "694        1      2  \n",
       "695        1      2  \n",
       "696        2      4  \n",
       "697        1      4  \n",
       "698        1      4  \n",
       "\n",
       "[683 rows x 10 columns]"
      ]
     },
     "execution_count": 7,
     "metadata": {},
     "output_type": "execute_result"
    }
   ],
   "source": [
    "# Drops the rows with missing values\n",
    "wbcr_data = wbcr_data[~wbcr_data['Bare Nuclei'].isin(['?'])]\n",
    "wbcr_data"
   ]
  },
  {
   "cell_type": "code",
   "execution_count": 8,
   "metadata": {},
   "outputs": [
    {
     "name": "stdout",
     "output_type": "stream",
     "text": [
      "2    444\n",
      "4    239\n",
      "Name: Class, dtype: int64\n"
     ]
    },
    {
     "data": {
      "text/plain": [
       "<matplotlib.axes._subplots.AxesSubplot at 0x7f40acb92b70>"
      ]
     },
     "execution_count": 8,
     "metadata": {},
     "output_type": "execute_result"
    },
    {
     "data": {
      "image/png": "[encoded data removed]",
      "text/plain": [
       "<Figure size 432x288 with 1 Axes>"
      ]
     },
     "metadata": {
      "needs_background": "light"
     },
     "output_type": "display_data"
    }
   ],
   "source": [
    "print(wbcr_data['Class'].value_counts())\n",
    "sns.countplot(x='Class', data=wbcr_data)"
   ]
  },
  {
   "cell_type": "markdown",
   "metadata": {},
   "source": [
    "The dataset contains 444 (65.01%) benign tumors and 239 (34.99%) malignant ones."
   ]
  },
  {
   "cell_type": "markdown",
   "metadata": {},
   "source": [
    "Additionally, we will normalise the values in the **Class** (Prediction Target) attribute (2 -> 0 and 4 -> 1) and do the same for the other attributes values that range from (0-10) to values between (0-1)."
   ]
  },
  {
   "cell_type": "code",
   "execution_count": 9,
   "metadata": {},
   "outputs": [
    {
     "data": {
      "text/plain": [
       "0     0\n",
       "1     0\n",
       "2     0\n",
       "3     0\n",
       "4     0\n",
       "5     1\n",
       "6     0\n",
       "7     0\n",
       "8     0\n",
       "9     0\n",
       "10    0\n",
       "11    0\n",
       "12    1\n",
       "13    0\n",
       "14    1\n",
       "15    1\n",
       "16    0\n",
       "17    0\n",
       "18    1\n",
       "19    0\n",
       "Name: Class, dtype: int64"
      ]
     },
     "execution_count": 9,
     "metadata": {},
     "output_type": "execute_result"
    }
   ],
   "source": [
    "wbcr_data.loc[:,'Class'].replace(2, 0,inplace=True)\n",
    "wbcr_data.loc[:,'Class'].replace(4, 1,inplace=True)\n",
    "wbcr_data['Class'].head(20)"
   ]
  },
  {
   "cell_type": "code",
   "execution_count": 10,
   "metadata": {},
   "outputs": [],
   "source": [
    "# Normalisation function\n",
    "def MinMaxNormalise(tensor):\n",
    "    tensor = tf.math.divide(\n",
    "       tf.subtract(\n",
    "          tensor, \n",
    "          tf.reduce_min(tensor)\n",
    "       ), \n",
    "       tf.subtract(\n",
    "          tf.reduce_max(tensor), \n",
    "          tf.reduce_min(tensor)\n",
    "       )\n",
    "    )\n",
    "    return tensor"
   ]
  },
  {
   "cell_type": "code",
   "execution_count": 11,
   "metadata": {},
   "outputs": [
    {
     "name": "stdout",
     "output_type": "stream",
     "text": [
      "Features:  tf.Tensor(\n",
      "[[0.44444444 0.         0.         ... 0.22222222 0.         0.        ]\n",
      " [0.44444444 0.33333333 0.33333333 ... 0.22222222 0.11111111 0.        ]\n",
      " [0.22222222 0.         0.         ... 0.22222222 0.         0.        ]\n",
      " ...\n",
      " [0.44444444 1.         1.         ... 0.77777778 1.         0.11111111]\n",
      " [0.33333333 0.77777778 0.55555556 ... 1.         0.55555556 0.        ]\n",
      " [0.33333333 0.77777778 0.77777778 ... 1.         0.33333333 0.        ]], shape=(683, 9), dtype=float64)\n",
      "\n",
      "Target:  tf.Tensor(\n",
      "[0 0 0 0 0 1 0 0 0 0 0 0 1 0 1 1 0 0 1 0 1 1 0 0 1 0 0 0 0 0 0 1 0 0 0 1 0\n",
      " 1 1 1 1 1 1 0 1 0 0 1 1 1 1 1 1 1 1 1 1 1 1 0 1 1 0 1 0 1 1 0 0 1 0 1 1 0\n",
      " 0 0 0 0 0 0 0 0 1 1 1 1 0 0 0 0 0 0 0 0 0 0 1 1 1 1 0 1 1 1 1 1 0 1 0 1 1\n",
      " 1 0 0 0 1 0 0 0 0 1 1 1 0 1 0 1 0 0 0 1 0 0 0 0 0 0 0 0 1 0 0 1 0 0 1 0 1\n",
      " 1 0 0 1 0 0 1 1 0 0 0 0 1 1 0 0 0 0 0 1 1 1 0 1 0 1 0 0 0 1 1 0 1 1 1 0 1\n",
      " 1 0 0 0 0 0 0 0 0 1 1 0 0 0 1 1 0 0 0 1 1 0 1 1 1 0 0 1 0 0 1 1 1 1 0 1 1\n",
      " 0 1 1 1 0 1 0 1 1 1 1 0 0 0 0 0 0 1 1 0 0 1 0 1 1 1 0 0 0 0 1 1 1 1 1 0 1\n",
      " 1 1 0 1 0 1 1 0 0 0 0 1 0 0 1 1 1 1 1 0 1 1 0 0 1 1 0 0 1 1 0 1 0 1 1 0 0\n",
      " 1 0 0 0 1 0 0 1 1 0 0 1 0 1 0 0 1 0 1 1 1 0 0 1 1 0 1 0 0 1 1 0 0 0 1 0 0\n",
      " 0 1 1 0 0 0 1 0 0 1 1 1 1 1 1 0 0 0 0 1 1 0 0 0 0 0 0 0 0 0 0 0 0 0 1 0 0\n",
      " 0 0 1 0 0 0 0 1 0 0 0 0 0 0 0 0 1 0 0 0 0 0 0 0 0 0 0 1 0 1 0 1 0 0 0 0 1\n",
      " 0 0 0 1 0 1 0 0 0 0 0 0 0 1 1 0 0 0 1 0 0 0 0 0 0 0 0 1 0 0 0 1 0 1 1 1 0\n",
      " 0 0 0 0 0 0 1 1 1 0 0 0 0 0 0 0 0 0 0 0 1 0 0 1 1 0 0 0 1 1 1 0 1 0 1 0 0\n",
      " 0 0 0 0 0 0 0 0 0 0 1 0 0 0 0 0 0 0 1 1 0 0 0 1 0 0 1 1 0 0 0 0 0 0 1 0 0\n",
      " 0 0 0 0 0 0 0 0 0 0 0 0 0 1 0 0 1 0 0 0 0 0 0 0 0 0 0 0 0 0 0 0 1 0 0 1 1\n",
      " 1 1 0 0 1 0 0 0 0 0 0 1 1 0 0 0 1 0 1 0 1 1 1 0 1 0 0 0 0 0 0 0 0 1 1 1 0\n",
      " 0 1 0 1 1 1 0 0 0 0 0 0 0 0 0 0 0 0 1 0 0 0 0 0 0 1 0 0 1 0 0 0 0 0 0 0 0\n",
      " 0 0 0 1 0 0 0 0 0 0 0 0 0 1 0 0 0 0 0 0 0 0 0 1 1 1 0 0 0 0 0 0 0 0 0 1 1\n",
      " 0 0 0 0 0 0 0 0 0 1 0 0 0 0 1 1 1], shape=(683,), dtype=int64)\n"
     ]
    }
   ],
   "source": [
    "# Convert type int to float\n",
    "wbcr_data = wbcr_data.astype(float)\n",
    "# Convert pandas dataframe into numpy array\n",
    "wbcr_array = wbcr_data.to_numpy()\n",
    "# Convert numpy array to tensor\n",
    "wbcr_tensor = tf.convert_to_tensor(wbcr_array)\n",
    "\n",
    "# Prediction target\n",
    "Y = wbcr_tensor[:,-1]\n",
    "# Converts the prediction target from a float to an integer\n",
    "Y = tf.cast(Y, tf.int64)\n",
    "# Normalise features and assign them to X\n",
    "X = MinMaxNormalise(wbcr_tensor[:,:-1])\n",
    "\n",
    "print('Features: ', X)\n",
    "print('\\nTarget: ', Y)"
   ]
  },
  {
   "cell_type": "markdown",
   "metadata": {},
   "source": [
    "After normalising the data we need to split the data into training and testing sets. The training set will later on be split in 4 folds for stratified cross validation."
   ]
  },
  {
   "cell_type": "code",
   "execution_count": 12,
   "metadata": {},
   "outputs": [
    {
     "data": {
      "text/plain": [
       "<matplotlib.axes._subplots.AxesSubplot at 0x7f40aaae47f0>"
      ]
     },
     "execution_count": 12,
     "metadata": {},
     "output_type": "execute_result"
    },
    {
     "data": {
      "image/png": "[encoded data removed]",
      "text/plain": [
       "<Figure size 1008x864 with 2 Axes>"
      ]
     },
     "metadata": {},
     "output_type": "display_data"
    }
   ],
   "source": [
    "# Displays a heatmap of all columns\n",
    "sns.set(style='ticks', color_codes=True)\n",
    "plt.figure(figsize=(14, 12))\n",
    "sns.heatmap(wbcr_data.astype(float).corr(), linewidths=0.1, square=True, linecolor='white', annot=True)"
   ]
  },
  {
   "cell_type": "markdown",
   "metadata": {},
   "source": [
    "A heatmap is a great way to show correlation between features. Here we can see a strong correlation between **Uniformity of Cell Size** and **Uniformity of Cell Shape**. Another attribute that might be worth mentioning is **Bland Chromatin** which has a positive correlation of 0.76 with **Uniformity of Cell Size**. What that means is that the size of **Uniformity of Cell Size** increases when **Uniformity of Cell Shape** increases. We could consider removing **Uniformity of Cell Size** or **Uniformity of Cell Shape** as their high correlation may prove to be redundant. We could try building our neural network without removing any columns and see how accurately it performs and then see how the network perfoms after deleting **Uniformity of Cell Shape**.\n",
    "\n",
    "Benefits of identifying & treating noise in data:\n",
    "\n",
    "    - enables the algorithm to train faster\n",
    "    - reduces the complexity of a model and makes it easier to interpret\n",
    "    - improves the accuracy of a model if the right subset is chosen\n",
    "    - reduces overfitting"
   ]
  },
  {
   "cell_type": "markdown",
   "metadata": {},
   "source": [
    "## 4-fold cross validation\n",
    "Before building the neural network, we need to split the dataset in 4 folds, 3 for training and 1 for testing. Every fold will be used once for testing, then all the scores will be averaged out. This is called k-fold cross validation and you can divide the dataset in k numbers of folds, whatever works best for you (10 folds is a popular amount, but we will be using 4). K-Fold cross validation can be very effective when applied to smaller datasets (100s or 1000s of samples), bigger datasets are computationally more expensive.\n",
    "\n",
    "The folds are stratified, meaning that the algorithm attempts to balance the number of instances of each class in each fold."
   ]
  },
  {
   "cell_type": "code",
   "execution_count": 16,
   "metadata": {},
   "outputs": [],
   "source": [
    "# fix random seed for reproducibility\n",
    "seed = 1337\n",
    "np.random.seed(seed)\n",
    "\n",
    "kfold = StratifiedKFold(n_splits=4, shuffle=True, random_state=seed)"
   ]
  },
  {
   "cell_type": "markdown",
   "metadata": {},
   "source": [
    "# Artificial Neural Network\n",
    "Now we come to the fun part, training and building our actual neural network. A bit of trial and error should tell us wether the method applied is heading in the right or the wrong direction. We should also keep track of the growth in accuracy by plotting the results after each epoch. For this reason we need to define a custom class before building the actual model"
   ]
  },
  {
   "cell_type": "code",
   "execution_count": null,
   "metadata": {},
   "outputs": [],
   "source": []
  },
  {
   "cell_type": "code",
   "execution_count": 18,
   "metadata": {
    "scrolled": true
   },
   "outputs": [
    {
     "name": "stdout",
     "output_type": "stream",
     "text": [
      "accuracy: 97.66%\n",
      "accuracy: 97.66%\n",
      "accuracy: 97.08%\n",
      "accuracy: 96.47%\n",
      "97.22% (+/- 0.49%)\n"
     ]
    }
   ],
   "source": [
    "# Array containing results of accuracy achieved\n",
    "cvscores = []\n",
    "\n",
    "# Fold the features and target in 4\n",
    "for train, test in kfold.split(X, Y):\n",
    "    # Configure neural network model\n",
    "    model = tf.keras.Sequential([\n",
    "        keras.layers.Dense(9, activation='sigmoid', input_shape=(9,)),\n",
    "        keras.layers.Dense(27, activation='sigmoid'),\n",
    "        keras.layers.Dropout(0.25),\n",
    "        keras.layers.Dense(54, activation='sigmoid'),\n",
    "        keras.layers.Dropout(0.25),\n",
    "        keras.layers.Dense(27, activation='sigmoid'),\n",
    "        keras.layers.Dense(1, activation='sigmoid')\n",
    "    ])\n",
    "    # Compile model\n",
    "    model.compile(optimizer=keras.optimizers.Adam(), loss=keras.losses.mean_squared_logarithmic_error, metrics=['accuracy']) \n",
    "    # Extract training folds and stack them into a tensor of shape (512,9)\n",
    "    X_train_fold = [X[i] for i in train]\n",
    "    X_train_fold = tf.stack(X_train_fold)\n",
    "    # Extract training folds and stack them into a tensor of shape (512,)\n",
    "    Y_train_fold = [Y[i] for i in train]\n",
    "    Y_train_fold = tf.stack(Y_train_fold)\n",
    "    # Extract test folds and stack them into a tensor of shape (171,9)\n",
    "    X_test_fold = [X[i] for i in test]\n",
    "    X_test_fold = tf.stack(X_test_fold)\n",
    "    # Extract test folds and stack them into a tensor of shape (171,)\n",
    "    Y_test_fold = [Y[i] for i in test]\n",
    "    Y_test_fold = tf.stack(Y_test_fold)\n",
    " \n",
    "    # Train the model\n",
    "    model.fit(X_train_fold, Y_train_fold, epochs=500, batch_size=30, verbose=0, validation_split=0.2)\n",
    "    # evaluate the model\n",
    "    scores = model.evaluate(X_test_fold, Y_test_fold, verbose=0)\n",
    "    print(\"%s: %.2f%%\" % (model.metrics_names[1], scores[1]*100))\n",
    "    cvscores.append(scores[1] * 100) \n",
    "print(\"%.2f%% (+/- %.2f%%)\" % (np.mean(cvscores), np.std(cvscores)))"
   ]
  },
  {
   "cell_type": "markdown",
   "metadata": {},
   "source": [
    "The model should reach about 96-98% accuracy on the WBCR dataset.\n",
    "\n",
    "Let's visualise the neural network !"
   ]
  },
  {
   "cell_type": "code",
   "execution_count": 15,
   "metadata": {},
   "outputs": [
    {
     "data": {
      "image/png": "[encoded data removed]",
      "text/plain": [
       "<IPython.core.display.Image object>"
      ]
     },
     "execution_count": 15,
     "metadata": {},
     "output_type": "execute_result"
    }
   ],
   "source": [
    "import pydot\n",
    "import graphviz\n",
    "from tensorflow.keras.utils import plot_model\n",
    "\n",
    "plot_model(model, to_file='model_plot.png', show_shapes=True, show_layer_names=True)"
   ]
  },
  {
   "cell_type": "code",
   "execution_count": null,
   "metadata": {},
   "outputs": [],
   "source": []
  }
 ],
 "metadata": {
  "kernelspec": {
   "display_name": "Python 3",
   "language": "python",
   "name": "python3"
  },
  "language_info": {
   "codemirror_mode": {
    "name": "ipython",
    "version": 3
   },
   "file_extension": ".py",
   "mimetype": "text/x-python",
   "name": "python",
   "nbconvert_exporter": "python",
   "pygments_lexer": "ipython3",
   "version": "3.6.9"
  }
 },
 "nbformat": 4,
 "nbformat_minor": 2
}

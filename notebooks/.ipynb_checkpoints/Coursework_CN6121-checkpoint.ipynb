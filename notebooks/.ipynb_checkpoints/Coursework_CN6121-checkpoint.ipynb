{
 "cells": [
  {
   "cell_type": "markdown",
   "metadata": {},
   "source": [
    "# Breast Cancer Classification Neural Network\n",
    "This notebook will attempt to classify breast cancer, using the dataset obtained by the University of Wisconsin Hospitals, Madison from Dr. William H. Wolberg.\n",
    "\n",
    "For the data exploration bit, we will require a few python packages:"
   ]
  },
  {
   "cell_type": "code",
   "execution_count": 1,
   "metadata": {},
   "outputs": [],
   "source": [
    "import pandas as pd"
   ]
  },
  {
   "cell_type": "markdown",
   "metadata": {},
   "source": [
    "After loading the pandas package and we'll use the *read_csv* method to load the dataset and use the *.shape* attribute to explore the dimensions of it."
   ]
  },
  {
   "cell_type": "code",
   "execution_count": 17,
   "metadata": {},
   "outputs": [
    {
     "name": "stdout",
     "output_type": "stream",
     "text": [
      "(698, 11)\n"
     ]
    }
   ],
   "source": [
    "wisconsin_data = pd.read_csv('./datasets/breast-cancer-wisconsin.data')\n",
    "print(wisconsin_data.shape)"
   ]
  },
  {
   "cell_type": "markdown",
   "metadata": {},
   "source": [
    "We can see that our data is 2 Dimensional (698 rows and 11 columns). Now let's take a look at the values: "
   ]
  },
  {
   "cell_type": "code",
   "execution_count": 18,
   "metadata": {},
   "outputs": [
    {
     "name": "stdout",
     "output_type": "stream",
     "text": [
      "<bound method DataFrame.info of      1000025  5   1  1.1  1.2  2 1.3   3  1.4  1.5  2.1\n",
      "0    1002945  5   4    4    5  7  10   3    2    1    2\n",
      "1    1015425  3   1    1    1  2   2   3    1    1    2\n",
      "2    1016277  6   8    8    1  3   4   3    7    1    2\n",
      "3    1017023  4   1    1    3  2   1   3    1    1    2\n",
      "4    1017122  8  10   10    8  7  10   9    7    1    4\n",
      "..       ... ..  ..  ...  ... ..  ..  ..  ...  ...  ...\n",
      "693   776715  3   1    1    1  3   2   1    1    1    2\n",
      "694   841769  2   1    1    1  2   1   1    1    1    2\n",
      "695   888820  5  10   10    3  7   3   8   10    2    4\n",
      "696   897471  4   8    6    4  3   4  10    6    1    4\n",
      "697   897471  4   8    8    5  4   5  10    4    1    4\n",
      "\n",
      "[698 rows x 11 columns]>\n"
     ]
    }
   ],
   "source": [
    "print(wisconsin_data.info)"
   ]
  },
  {
   "cell_type": "markdown",
   "metadata": {},
   "source": [
    "The output doesn't actually tell us anything about the data unfortunately. For that we need to take a look in the **breast-cancer-wisconsin.names** file which comes with the dataset:\n",
    "\n",
    "    1. ID Number\n",
    "    2. Clump Thickness (0-10)\n",
    "    3. Uniformity of Cell Size (0-10)\n",
    "    4. Uniformity of Cell Shape (0-10)\n",
    "    5. Marginal Adhesion (0-10)\n",
    "    6. Single Epithelial Cell Size (0-10)\n",
    "    7. Bare Nuclei (0-10)\n",
    "    8. Bland Chromatin (0-10)\n",
    "    9. Normal Nucleoli (0-10)\n",
    "    10. Mitoses (0-10)\n",
    "\n",
    "According to the file, we have 10 categories; one being the ID Number column which has no practical use to use."
   ]
  },
  {
   "cell_type": "code",
   "execution_count": null,
   "metadata": {},
   "outputs": [],
   "source": []
  }
 ],
 "metadata": {
  "kernelspec": {
   "display_name": "Python 3",
   "language": "python",
   "name": "python3"
  },
  "language_info": {
   "codemirror_mode": {
    "name": "ipython",
    "version": 3
   },
   "file_extension": ".py",
   "mimetype": "text/x-python",
   "name": "python",
   "nbconvert_exporter": "python",
   "pygments_lexer": "ipython3",
   "version": "3.6.8"
  }
 },
 "nbformat": 4,
 "nbformat_minor": 2
}

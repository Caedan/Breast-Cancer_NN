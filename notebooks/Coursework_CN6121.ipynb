{
 "cells": [
  {
   "cell_type": "markdown",
   "metadata": {},
   "source": [
    "# Breast Cancer Classification Neural Network\n",
    "This notebook will attempt to correctly diagnose wether a tumour is benign or malignant. The dataset was obtained by the University of Wisconsin Hospitals, Madison from Dr. William H. Wolberg.\n",
    "\n",
    "## Data Exploration\n",
    "First things first, we need to import the required packages:"
   ]
  },
  {
   "cell_type": "code",
   "execution_count": 31,
   "metadata": {},
   "outputs": [
    {
     "name": "stdout",
     "output_type": "stream",
     "text": [
      "2.0.0\n",
      "Setup Complete !\n"
     ]
    }
   ],
   "source": [
    "import pandas as pd\n",
    "import seaborn as sns\n",
    "import matplotlib.pyplot as plt\n",
    "import tensorflow as tf\n",
    "\n",
    "from sklearn.model_selection import StratifiedKFold\n",
    "\n",
    "print(tf.__version__)\n",
    "print('Setup Complete !')"
   ]
  },
  {
   "cell_type": "markdown",
   "metadata": {},
   "source": [
    "After loading the pandas package and we'll use the *read_csv* method to load the dataset and use the *.shape* attribute to explore the dimensions of it."
   ]
  },
  {
   "cell_type": "code",
   "execution_count": 32,
   "metadata": {},
   "outputs": [
    {
     "name": "stdout",
     "output_type": "stream",
     "text": [
      "(698, 11)\n"
     ]
    }
   ],
   "source": [
    "wbcr_data = pd.read_csv('../datasets/breast-cancer-wisconsin.data')\n",
    "print(wbcr_data.shape)"
   ]
  },
  {
   "cell_type": "markdown",
   "metadata": {},
   "source": [
    "We can see that our data is 2 Dimensional (698 rows and 11 columns). Now let's take a look at the values: "
   ]
  },
  {
   "cell_type": "code",
   "execution_count": 33,
   "metadata": {
    "scrolled": false
   },
   "outputs": [
    {
     "name": "stdout",
     "output_type": "stream",
     "text": [
      "   1000025  5   1  1.1  1.2  2 1.3  3  1.4  1.5  2.1\n",
      "0  1002945  5   4    4    5  7  10  3    2    1    2\n",
      "1  1015425  3   1    1    1  2   2  3    1    1    2\n",
      "2  1016277  6   8    8    1  3   4  3    7    1    2\n",
      "3  1017023  4   1    1    3  2   1  3    1    1    2\n",
      "4  1017122  8  10   10    8  7  10  9    7    1    4\n"
     ]
    }
   ],
   "source": [
    "print(wbcr_data.head())"
   ]
  },
  {
   "cell_type": "markdown",
   "metadata": {},
   "source": [
    "### Cleaning the dataset\n",
    "The output doesn't actually tell us anything about the data unfortunately. For that we need to take a look in the **breast-cancer-wisconsin.names** file which comes with the dataset:\n",
    "\n",
    "    1. ID Number\n",
    "    2. Clump Thickness (0-10)\n",
    "    3. Uniformity of Cell Size (0-10)\n",
    "    4. Uniformity of Cell Shape (0-10)\n",
    "    5. Marginal Adhesion (0-10)\n",
    "    6. Single Epithelial Cell Size (0-10)\n",
    "    7. Bare Nuclei (0-10)\n",
    "    8. Bland Chromatin (0-10)\n",
    "    9. Normal Nucleoli (0-10)\n",
    "    10. Mitoses (0-10)\n",
    "    11. Class (2 for benign, 4 for malignant)\n",
    "\n",
    "According to the file, we have 10 categories; one just containing an ID and the rest containing nominal values. The ID column has no practical use to us and we will therefore delete it."
   ]
  },
  {
   "cell_type": "code",
   "execution_count": 34,
   "metadata": {},
   "outputs": [
    {
     "name": "stdout",
     "output_type": "stream",
     "text": [
      "Index(['ID Number', 'Clump Thickness', 'Uni Cell Size', 'Uni Cell Shape',\n",
      "       'Marginal Adhesion', 'Epithelial Cell Size', 'Bare Nuclei',\n",
      "       'Bland Chromatin', 'Normal Nucleoli', 'Mitoses', 'Class'],\n",
      "      dtype='object')\n"
     ]
    }
   ],
   "source": [
    "# New labels for the datitaframe\n",
    "labels = ['ID Number', 'Clump Thickness', 'Uni Cell Size', 'Uni Cell Shape', 'Marginal Adhesion', \n",
    "          'Epithelial Cell Size', 'Bare Nuclei', 'Bland Chromatin', 'Normal Nucleoli', 'Mitoses', 'Class']\n",
    "# Assign the new labels to the dataframe\n",
    "wbcr_data = pd.read_csv('../datasets/breast-cancer-wisconsin.data', names=labels, index_col=False)\n",
    "print(wbcr_data.columns)"
   ]
  },
  {
   "cell_type": "code",
   "execution_count": 35,
   "metadata": {},
   "outputs": [
    {
     "data": {
      "text/plain": [
       "2    458\n",
       "4    241\n",
       "Name: Class, dtype: int64"
      ]
     },
     "execution_count": 35,
     "metadata": {},
     "output_type": "execute_result"
    }
   ],
   "source": [
    "wbcr_data['Class'].value_counts()"
   ]
  },
  {
   "cell_type": "markdown",
   "metadata": {},
   "source": [
    "The dataset contains 458 (65.5%) benign tumors and 241 (34.5%) malignant ones."
   ]
  },
  {
   "cell_type": "code",
   "execution_count": 36,
   "metadata": {},
   "outputs": [
    {
     "name": "stdout",
     "output_type": "stream",
     "text": [
      "<class 'pandas.core.frame.DataFrame'>\n",
      "RangeIndex: 699 entries, 0 to 698\n",
      "Data columns (total 10 columns):\n",
      "Clump Thickness         699 non-null int64\n",
      "Uni Cell Size           699 non-null int64\n",
      "Uni Cell Shape          699 non-null int64\n",
      "Marginal Adhesion       699 non-null int64\n",
      "Epithelial Cell Size    699 non-null int64\n",
      "Bare Nuclei             699 non-null object\n",
      "Bland Chromatin         699 non-null int64\n",
      "Normal Nucleoli         699 non-null int64\n",
      "Mitoses                 699 non-null int64\n",
      "Class                   699 non-null int64\n",
      "dtypes: int64(9), object(1)\n",
      "memory usage: 54.7+ KB\n"
     ]
    }
   ],
   "source": [
    "# Delete the ID column\n",
    "wbcr_data.drop(['ID Number'], axis=1, inplace=True)\n",
    "wbcr_data.info()"
   ]
  },
  {
   "cell_type": "code",
   "execution_count": 37,
   "metadata": {},
   "outputs": [
    {
     "data": {
      "text/html": [
       "<div>\n",
       "<style scoped>\n",
       "    .dataframe tbody tr th:only-of-type {\n",
       "        vertical-align: middle;\n",
       "    }\n",
       "\n",
       "    .dataframe tbody tr th {\n",
       "        vertical-align: top;\n",
       "    }\n",
       "\n",
       "    .dataframe thead th {\n",
       "        text-align: right;\n",
       "    }\n",
       "</style>\n",
       "<table border=\"1\" class=\"dataframe\">\n",
       "  <thead>\n",
       "    <tr style=\"text-align: right;\">\n",
       "      <th></th>\n",
       "      <th>Clump Thickness</th>\n",
       "      <th>Uni Cell Size</th>\n",
       "      <th>Uni Cell Shape</th>\n",
       "      <th>Marginal Adhesion</th>\n",
       "      <th>Epithelial Cell Size</th>\n",
       "      <th>Bare Nuclei</th>\n",
       "      <th>Bland Chromatin</th>\n",
       "      <th>Normal Nucleoli</th>\n",
       "      <th>Mitoses</th>\n",
       "      <th>Class</th>\n",
       "    </tr>\n",
       "  </thead>\n",
       "  <tbody>\n",
       "    <tr>\n",
       "      <th>23</th>\n",
       "      <td>8</td>\n",
       "      <td>4</td>\n",
       "      <td>5</td>\n",
       "      <td>1</td>\n",
       "      <td>2</td>\n",
       "      <td>?</td>\n",
       "      <td>7</td>\n",
       "      <td>3</td>\n",
       "      <td>1</td>\n",
       "      <td>4</td>\n",
       "    </tr>\n",
       "    <tr>\n",
       "      <th>40</th>\n",
       "      <td>6</td>\n",
       "      <td>6</td>\n",
       "      <td>6</td>\n",
       "      <td>9</td>\n",
       "      <td>6</td>\n",
       "      <td>?</td>\n",
       "      <td>7</td>\n",
       "      <td>8</td>\n",
       "      <td>1</td>\n",
       "      <td>2</td>\n",
       "    </tr>\n",
       "    <tr>\n",
       "      <th>139</th>\n",
       "      <td>1</td>\n",
       "      <td>1</td>\n",
       "      <td>1</td>\n",
       "      <td>1</td>\n",
       "      <td>1</td>\n",
       "      <td>?</td>\n",
       "      <td>2</td>\n",
       "      <td>1</td>\n",
       "      <td>1</td>\n",
       "      <td>2</td>\n",
       "    </tr>\n",
       "    <tr>\n",
       "      <th>145</th>\n",
       "      <td>1</td>\n",
       "      <td>1</td>\n",
       "      <td>3</td>\n",
       "      <td>1</td>\n",
       "      <td>2</td>\n",
       "      <td>?</td>\n",
       "      <td>2</td>\n",
       "      <td>1</td>\n",
       "      <td>1</td>\n",
       "      <td>2</td>\n",
       "    </tr>\n",
       "    <tr>\n",
       "      <th>158</th>\n",
       "      <td>1</td>\n",
       "      <td>1</td>\n",
       "      <td>2</td>\n",
       "      <td>1</td>\n",
       "      <td>3</td>\n",
       "      <td>?</td>\n",
       "      <td>1</td>\n",
       "      <td>1</td>\n",
       "      <td>1</td>\n",
       "      <td>2</td>\n",
       "    </tr>\n",
       "    <tr>\n",
       "      <th>164</th>\n",
       "      <td>5</td>\n",
       "      <td>1</td>\n",
       "      <td>1</td>\n",
       "      <td>1</td>\n",
       "      <td>2</td>\n",
       "      <td>?</td>\n",
       "      <td>3</td>\n",
       "      <td>1</td>\n",
       "      <td>1</td>\n",
       "      <td>2</td>\n",
       "    </tr>\n",
       "    <tr>\n",
       "      <th>235</th>\n",
       "      <td>3</td>\n",
       "      <td>1</td>\n",
       "      <td>4</td>\n",
       "      <td>1</td>\n",
       "      <td>2</td>\n",
       "      <td>?</td>\n",
       "      <td>3</td>\n",
       "      <td>1</td>\n",
       "      <td>1</td>\n",
       "      <td>2</td>\n",
       "    </tr>\n",
       "    <tr>\n",
       "      <th>249</th>\n",
       "      <td>3</td>\n",
       "      <td>1</td>\n",
       "      <td>1</td>\n",
       "      <td>1</td>\n",
       "      <td>2</td>\n",
       "      <td>?</td>\n",
       "      <td>3</td>\n",
       "      <td>1</td>\n",
       "      <td>1</td>\n",
       "      <td>2</td>\n",
       "    </tr>\n",
       "    <tr>\n",
       "      <th>275</th>\n",
       "      <td>3</td>\n",
       "      <td>1</td>\n",
       "      <td>3</td>\n",
       "      <td>1</td>\n",
       "      <td>2</td>\n",
       "      <td>?</td>\n",
       "      <td>2</td>\n",
       "      <td>1</td>\n",
       "      <td>1</td>\n",
       "      <td>2</td>\n",
       "    </tr>\n",
       "    <tr>\n",
       "      <th>292</th>\n",
       "      <td>8</td>\n",
       "      <td>8</td>\n",
       "      <td>8</td>\n",
       "      <td>1</td>\n",
       "      <td>2</td>\n",
       "      <td>?</td>\n",
       "      <td>6</td>\n",
       "      <td>10</td>\n",
       "      <td>1</td>\n",
       "      <td>4</td>\n",
       "    </tr>\n",
       "    <tr>\n",
       "      <th>294</th>\n",
       "      <td>1</td>\n",
       "      <td>1</td>\n",
       "      <td>1</td>\n",
       "      <td>1</td>\n",
       "      <td>2</td>\n",
       "      <td>?</td>\n",
       "      <td>2</td>\n",
       "      <td>1</td>\n",
       "      <td>1</td>\n",
       "      <td>2</td>\n",
       "    </tr>\n",
       "    <tr>\n",
       "      <th>297</th>\n",
       "      <td>5</td>\n",
       "      <td>4</td>\n",
       "      <td>3</td>\n",
       "      <td>1</td>\n",
       "      <td>2</td>\n",
       "      <td>?</td>\n",
       "      <td>2</td>\n",
       "      <td>3</td>\n",
       "      <td>1</td>\n",
       "      <td>2</td>\n",
       "    </tr>\n",
       "    <tr>\n",
       "      <th>315</th>\n",
       "      <td>4</td>\n",
       "      <td>6</td>\n",
       "      <td>5</td>\n",
       "      <td>6</td>\n",
       "      <td>7</td>\n",
       "      <td>?</td>\n",
       "      <td>4</td>\n",
       "      <td>9</td>\n",
       "      <td>1</td>\n",
       "      <td>2</td>\n",
       "    </tr>\n",
       "    <tr>\n",
       "      <th>321</th>\n",
       "      <td>3</td>\n",
       "      <td>1</td>\n",
       "      <td>1</td>\n",
       "      <td>1</td>\n",
       "      <td>2</td>\n",
       "      <td>?</td>\n",
       "      <td>3</td>\n",
       "      <td>1</td>\n",
       "      <td>1</td>\n",
       "      <td>2</td>\n",
       "    </tr>\n",
       "    <tr>\n",
       "      <th>411</th>\n",
       "      <td>1</td>\n",
       "      <td>1</td>\n",
       "      <td>1</td>\n",
       "      <td>1</td>\n",
       "      <td>1</td>\n",
       "      <td>?</td>\n",
       "      <td>2</td>\n",
       "      <td>1</td>\n",
       "      <td>1</td>\n",
       "      <td>2</td>\n",
       "    </tr>\n",
       "    <tr>\n",
       "      <th>617</th>\n",
       "      <td>1</td>\n",
       "      <td>1</td>\n",
       "      <td>1</td>\n",
       "      <td>1</td>\n",
       "      <td>1</td>\n",
       "      <td>?</td>\n",
       "      <td>1</td>\n",
       "      <td>1</td>\n",
       "      <td>1</td>\n",
       "      <td>2</td>\n",
       "    </tr>\n",
       "  </tbody>\n",
       "</table>\n",
       "</div>"
      ],
      "text/plain": [
       "     Clump Thickness  Uni Cell Size  Uni Cell Shape  Marginal Adhesion  \\\n",
       "23                 8              4               5                  1   \n",
       "40                 6              6               6                  9   \n",
       "139                1              1               1                  1   \n",
       "145                1              1               3                  1   \n",
       "158                1              1               2                  1   \n",
       "164                5              1               1                  1   \n",
       "235                3              1               4                  1   \n",
       "249                3              1               1                  1   \n",
       "275                3              1               3                  1   \n",
       "292                8              8               8                  1   \n",
       "294                1              1               1                  1   \n",
       "297                5              4               3                  1   \n",
       "315                4              6               5                  6   \n",
       "321                3              1               1                  1   \n",
       "411                1              1               1                  1   \n",
       "617                1              1               1                  1   \n",
       "\n",
       "     Epithelial Cell Size Bare Nuclei  Bland Chromatin  Normal Nucleoli  \\\n",
       "23                      2           ?                7                3   \n",
       "40                      6           ?                7                8   \n",
       "139                     1           ?                2                1   \n",
       "145                     2           ?                2                1   \n",
       "158                     3           ?                1                1   \n",
       "164                     2           ?                3                1   \n",
       "235                     2           ?                3                1   \n",
       "249                     2           ?                3                1   \n",
       "275                     2           ?                2                1   \n",
       "292                     2           ?                6               10   \n",
       "294                     2           ?                2                1   \n",
       "297                     2           ?                2                3   \n",
       "315                     7           ?                4                9   \n",
       "321                     2           ?                3                1   \n",
       "411                     1           ?                2                1   \n",
       "617                     1           ?                1                1   \n",
       "\n",
       "     Mitoses  Class  \n",
       "23         1      4  \n",
       "40         1      2  \n",
       "139        1      2  \n",
       "145        1      2  \n",
       "158        1      2  \n",
       "164        1      2  \n",
       "235        1      2  \n",
       "249        1      2  \n",
       "275        1      2  \n",
       "292        1      4  \n",
       "294        1      2  \n",
       "297        1      2  \n",
       "315        1      2  \n",
       "321        1      2  \n",
       "411        1      2  \n",
       "617        1      2  "
      ]
     },
     "execution_count": 37,
     "metadata": {},
     "output_type": "execute_result"
    }
   ],
   "source": [
    "wbcr_data.loc[wbcr_data['Bare Nuclei'] == '?']"
   ]
  },
  {
   "cell_type": "markdown",
   "metadata": {},
   "source": [
    "We had identified a column of type *object*, which could pose a problem and on further investigation we have discovered that there are in fact missing values in the dataset that need to be dealt with before continuing."
   ]
  },
  {
   "cell_type": "code",
   "execution_count": 40,
   "metadata": {},
   "outputs": [
    {
     "data": {
      "text/html": [
       "<div>\n",
       "<style scoped>\n",
       "    .dataframe tbody tr th:only-of-type {\n",
       "        vertical-align: middle;\n",
       "    }\n",
       "\n",
       "    .dataframe tbody tr th {\n",
       "        vertical-align: top;\n",
       "    }\n",
       "\n",
       "    .dataframe thead th {\n",
       "        text-align: right;\n",
       "    }\n",
       "</style>\n",
       "<table border=\"1\" class=\"dataframe\">\n",
       "  <thead>\n",
       "    <tr style=\"text-align: right;\">\n",
       "      <th></th>\n",
       "      <th>Clump Thickness</th>\n",
       "      <th>Uni Cell Size</th>\n",
       "      <th>Uni Cell Shape</th>\n",
       "      <th>Marginal Adhesion</th>\n",
       "      <th>Epithelial Cell Size</th>\n",
       "      <th>Bare Nuclei</th>\n",
       "      <th>Bland Chromatin</th>\n",
       "      <th>Normal Nucleoli</th>\n",
       "      <th>Mitoses</th>\n",
       "      <th>Class</th>\n",
       "    </tr>\n",
       "  </thead>\n",
       "  <tbody>\n",
       "    <tr>\n",
       "      <th>0</th>\n",
       "      <td>5</td>\n",
       "      <td>1</td>\n",
       "      <td>1</td>\n",
       "      <td>1</td>\n",
       "      <td>2</td>\n",
       "      <td>1</td>\n",
       "      <td>3</td>\n",
       "      <td>1</td>\n",
       "      <td>1</td>\n",
       "      <td>2</td>\n",
       "    </tr>\n",
       "    <tr>\n",
       "      <th>1</th>\n",
       "      <td>5</td>\n",
       "      <td>4</td>\n",
       "      <td>4</td>\n",
       "      <td>5</td>\n",
       "      <td>7</td>\n",
       "      <td>10</td>\n",
       "      <td>3</td>\n",
       "      <td>2</td>\n",
       "      <td>1</td>\n",
       "      <td>2</td>\n",
       "    </tr>\n",
       "    <tr>\n",
       "      <th>2</th>\n",
       "      <td>3</td>\n",
       "      <td>1</td>\n",
       "      <td>1</td>\n",
       "      <td>1</td>\n",
       "      <td>2</td>\n",
       "      <td>2</td>\n",
       "      <td>3</td>\n",
       "      <td>1</td>\n",
       "      <td>1</td>\n",
       "      <td>2</td>\n",
       "    </tr>\n",
       "    <tr>\n",
       "      <th>3</th>\n",
       "      <td>6</td>\n",
       "      <td>8</td>\n",
       "      <td>8</td>\n",
       "      <td>1</td>\n",
       "      <td>3</td>\n",
       "      <td>4</td>\n",
       "      <td>3</td>\n",
       "      <td>7</td>\n",
       "      <td>1</td>\n",
       "      <td>2</td>\n",
       "    </tr>\n",
       "    <tr>\n",
       "      <th>4</th>\n",
       "      <td>4</td>\n",
       "      <td>1</td>\n",
       "      <td>1</td>\n",
       "      <td>3</td>\n",
       "      <td>2</td>\n",
       "      <td>1</td>\n",
       "      <td>3</td>\n",
       "      <td>1</td>\n",
       "      <td>1</td>\n",
       "      <td>2</td>\n",
       "    </tr>\n",
       "    <tr>\n",
       "      <th>...</th>\n",
       "      <td>...</td>\n",
       "      <td>...</td>\n",
       "      <td>...</td>\n",
       "      <td>...</td>\n",
       "      <td>...</td>\n",
       "      <td>...</td>\n",
       "      <td>...</td>\n",
       "      <td>...</td>\n",
       "      <td>...</td>\n",
       "      <td>...</td>\n",
       "    </tr>\n",
       "    <tr>\n",
       "      <th>694</th>\n",
       "      <td>3</td>\n",
       "      <td>1</td>\n",
       "      <td>1</td>\n",
       "      <td>1</td>\n",
       "      <td>3</td>\n",
       "      <td>2</td>\n",
       "      <td>1</td>\n",
       "      <td>1</td>\n",
       "      <td>1</td>\n",
       "      <td>2</td>\n",
       "    </tr>\n",
       "    <tr>\n",
       "      <th>695</th>\n",
       "      <td>2</td>\n",
       "      <td>1</td>\n",
       "      <td>1</td>\n",
       "      <td>1</td>\n",
       "      <td>2</td>\n",
       "      <td>1</td>\n",
       "      <td>1</td>\n",
       "      <td>1</td>\n",
       "      <td>1</td>\n",
       "      <td>2</td>\n",
       "    </tr>\n",
       "    <tr>\n",
       "      <th>696</th>\n",
       "      <td>5</td>\n",
       "      <td>10</td>\n",
       "      <td>10</td>\n",
       "      <td>3</td>\n",
       "      <td>7</td>\n",
       "      <td>3</td>\n",
       "      <td>8</td>\n",
       "      <td>10</td>\n",
       "      <td>2</td>\n",
       "      <td>4</td>\n",
       "    </tr>\n",
       "    <tr>\n",
       "      <th>697</th>\n",
       "      <td>4</td>\n",
       "      <td>8</td>\n",
       "      <td>6</td>\n",
       "      <td>4</td>\n",
       "      <td>3</td>\n",
       "      <td>4</td>\n",
       "      <td>10</td>\n",
       "      <td>6</td>\n",
       "      <td>1</td>\n",
       "      <td>4</td>\n",
       "    </tr>\n",
       "    <tr>\n",
       "      <th>698</th>\n",
       "      <td>4</td>\n",
       "      <td>8</td>\n",
       "      <td>8</td>\n",
       "      <td>5</td>\n",
       "      <td>4</td>\n",
       "      <td>5</td>\n",
       "      <td>10</td>\n",
       "      <td>4</td>\n",
       "      <td>1</td>\n",
       "      <td>4</td>\n",
       "    </tr>\n",
       "  </tbody>\n",
       "</table>\n",
       "<p>683 rows × 10 columns</p>\n",
       "</div>"
      ],
      "text/plain": [
       "     Clump Thickness  Uni Cell Size  Uni Cell Shape  Marginal Adhesion  \\\n",
       "0                  5              1               1                  1   \n",
       "1                  5              4               4                  5   \n",
       "2                  3              1               1                  1   \n",
       "3                  6              8               8                  1   \n",
       "4                  4              1               1                  3   \n",
       "..               ...            ...             ...                ...   \n",
       "694                3              1               1                  1   \n",
       "695                2              1               1                  1   \n",
       "696                5             10              10                  3   \n",
       "697                4              8               6                  4   \n",
       "698                4              8               8                  5   \n",
       "\n",
       "     Epithelial Cell Size Bare Nuclei  Bland Chromatin  Normal Nucleoli  \\\n",
       "0                       2           1                3                1   \n",
       "1                       7          10                3                2   \n",
       "2                       2           2                3                1   \n",
       "3                       3           4                3                7   \n",
       "4                       2           1                3                1   \n",
       "..                    ...         ...              ...              ...   \n",
       "694                     3           2                1                1   \n",
       "695                     2           1                1                1   \n",
       "696                     7           3                8               10   \n",
       "697                     3           4               10                6   \n",
       "698                     4           5               10                4   \n",
       "\n",
       "     Mitoses  Class  \n",
       "0          1      2  \n",
       "1          1      2  \n",
       "2          1      2  \n",
       "3          1      2  \n",
       "4          1      2  \n",
       "..       ...    ...  \n",
       "694        1      2  \n",
       "695        1      2  \n",
       "696        2      4  \n",
       "697        1      4  \n",
       "698        1      4  \n",
       "\n",
       "[683 rows x 10 columns]"
      ]
     },
     "execution_count": 40,
     "metadata": {},
     "output_type": "execute_result"
    }
   ],
   "source": [
    "# Drops the rows with missing values\n",
    "wbcr_data = wbcr_data[~wbcr_data['Bare Nuclei'].isin(['?'])]\n",
    "wbcr_data"
   ]
  },
  {
   "cell_type": "markdown",
   "metadata": {},
   "source": [
    "Additionally, we will normalise the values in the **Class** attribute (2 -> 0 and 4 -> 1) and do the same for the other attributes values that range from (0-10) to values between (0-1)."
   ]
  },
  {
   "cell_type": "code",
   "execution_count": 41,
   "metadata": {},
   "outputs": [
    {
     "data": {
      "text/plain": [
       "0     0\n",
       "1     0\n",
       "2     0\n",
       "3     0\n",
       "4     0\n",
       "5     1\n",
       "6     0\n",
       "7     0\n",
       "8     0\n",
       "9     0\n",
       "10    0\n",
       "11    0\n",
       "12    1\n",
       "13    0\n",
       "14    1\n",
       "15    1\n",
       "16    0\n",
       "17    0\n",
       "18    1\n",
       "19    0\n",
       "Name: Class, dtype: int64"
      ]
     },
     "execution_count": 41,
     "metadata": {},
     "output_type": "execute_result"
    }
   ],
   "source": [
    "wbcr_data.loc[:,'Class'].replace(2, 0,inplace=True)\n",
    "wbcr_data.loc[:,'Class'].replace(4, 1,inplace=True)\n",
    "wbcr_data['Class'].head(20)"
   ]
  },
  {
   "cell_type": "code",
   "execution_count": 42,
   "metadata": {},
   "outputs": [],
   "source": [
    "# Normalisation function\n",
    "def MinMaxNormalise(tensor):\n",
    "    tensor = tf.math.divide(\n",
    "       tf.subtract(\n",
    "          tensor, \n",
    "          tf.reduce_min(tensor)\n",
    "       ), \n",
    "       tf.subtract(\n",
    "          tf.reduce_max(tensor), \n",
    "          tf.reduce_min(tensor)\n",
    "       )\n",
    "    )\n",
    "    return tensor"
   ]
  },
  {
   "cell_type": "code",
   "execution_count": 43,
   "metadata": {},
   "outputs": [
    {
     "name": "stdout",
     "output_type": "stream",
     "text": [
      "tf.Tensor(\n",
      "[[0.44444444 0.         0.         ... 0.22222222 0.         0.        ]\n",
      " [0.44444444 0.33333333 0.33333333 ... 0.22222222 0.11111111 0.        ]\n",
      " [0.22222222 0.         0.         ... 0.22222222 0.         0.        ]\n",
      " ...\n",
      " [0.44444444 1.         1.         ... 0.77777778 1.         0.11111111]\n",
      " [0.33333333 0.77777778 0.55555556 ... 1.         0.55555556 0.        ]\n",
      " [0.33333333 0.77777778 0.77777778 ... 1.         0.33333333 0.        ]], shape=(683, 9), dtype=float64)\n"
     ]
    }
   ],
   "source": [
    "# Convert type int to float\n",
    "wbcr_data = wbcr_data.astype(float)\n",
    "# Convert pandas dataframe into numpy array\n",
    "wbcr_array = wbcr_data.to_numpy()\n",
    "# Convert numpy array to tensor\n",
    "wbcr_tensor = tf.convert_to_tensor(wbcr_array)\n",
    "# Pop the prediction target\n",
    "Y = wbcr_tensor[:,-1]\n",
    "# Normalise values and assign them to X\n",
    "X = MinMaxNormalise(wbcr_tensor[:,:-1])\n",
    "\n",
    "print(X)"
   ]
  },
  {
   "cell_type": "code",
   "execution_count": 44,
   "metadata": {},
   "outputs": [
    {
     "data": {
      "text/plain": [
       "<matplotlib.axes._subplots.AxesSubplot at 0x7f97684d6668>"
      ]
     },
     "execution_count": 44,
     "metadata": {},
     "output_type": "execute_result"
    },
    {
     "data": {
      "image/png": "[encoded data removed]",
      "text/plain": [
       "<Figure size 1008x864 with 2 Axes>"
      ]
     },
     "metadata": {},
     "output_type": "display_data"
    }
   ],
   "source": [
    "# Displays a heatmap of all columns\n",
    "sns.set(style='ticks', color_codes=True)\n",
    "plt.figure(figsize=(14, 12))\n",
    "sns.heatmap(wbcr_data.astype(float).corr(), linewidths=0.1, square=True, linecolor='white', annot=True)"
   ]
  },
  {
   "cell_type": "markdown",
   "metadata": {},
   "source": [
    "A heatmap is a great way to show correlation between features. Here we can see a strong correlation between **Uniformity of Cell Size** and **Uniformity of Cell Shape**. Another attribute that might be worth mentioning is **Bland Chromatin** which has a positive correlation of 0.76 with **Uniformity of Cell Size**. What that means is that the size of **Uniformity of Cell Size** increases when **Uniformity of Cell Shape** increases. We could consider removing **Uniformity of Cell Size** or **Uniformity of Cell Shape** as their high correlation may prove to be redundant. We could try building our neural network without removing any columns and see how accurately it performs and then see how the network perfoms after deleting **Uniformity of Cell Shape**.\n",
    "\n",
    "Benefits of identifying & treating noise in data:\n",
    "\n",
    "    - enables the algorithm to train faster\n",
    "    - reduces the complexity of a model and makes it easier to interpret\n",
    "    - improves the accuracy of a model if the right subset is chosen\n",
    "    - reduces overfitting"
   ]
  },
  {
   "cell_type": "code",
   "execution_count": 45,
   "metadata": {},
   "outputs": [
    {
     "data": {
      "text/plain": [
       "<matplotlib.axes._subplots.AxesSubplot at 0x7f97682cb400>"
      ]
     },
     "execution_count": 45,
     "metadata": {},
     "output_type": "execute_result"
    },
    {
     "data": {
      "image/png": "[encoded data removed]",
      "text/plain": [
       "<Figure size 432x288 with 1 Axes>"
      ]
     },
     "metadata": {},
     "output_type": "display_data"
    }
   ],
   "source": [
    "sns.countplot(x='Class', data=wbcr_data)"
   ]
  },
  {
   "cell_type": "markdown",
   "metadata": {},
   "source": [
    "## 4-fold cross validation\n",
    "Before building the neural network, we need to split the dataset in 4 folds, 3 for training and 1 for testing. Every fold will be used for testing once and take the scores and average them. This is called k-fold cross validation and you can divide the dataset in k numbers of folds, whatever works best for you (10 folds is a popular amount, but we will be using 4). K-Fold cross validation can be very effective when applied to smaller datasets (100s or 1000s of samples), bigger datasets are computationally more expensive.\n",
    "\n",
    "The folds are stratified, meaning that the algorithm attempts to balance the number of instances of each class in each fold."
   ]
  },
  {
   "cell_type": "code",
   "execution_count": null,
   "metadata": {},
   "outputs": [],
   "source": []
  },
  {
   "cell_type": "markdown",
   "metadata": {},
   "source": [
    "# Artificial Neural Network\n",
    "We'll build a few models and collect the perfomance of each to see which perfoms best on our dataset. The following configurations will be used:\n",
    "\n",
    "1. "
   ]
  }
 ],
 "metadata": {
  "kernelspec": {
   "display_name": "Python 3",
   "language": "python",
   "name": "python3"
  },
  "language_info": {
   "codemirror_mode": {
    "name": "ipython",
    "version": 3
   },
   "file_extension": ".py",
   "mimetype": "text/x-python",
   "name": "python",
   "nbconvert_exporter": "python",
   "pygments_lexer": "ipython3",
   "version": "3.6.8"
  }
 },
 "nbformat": 4,
 "nbformat_minor": 2
}
